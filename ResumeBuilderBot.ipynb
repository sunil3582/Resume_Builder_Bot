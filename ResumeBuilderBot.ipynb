{
 "cells": [
  {
   "cell_type": "code",
   "execution_count": 1,
   "id": "6d5b9d67-748e-42a3-afbc-1c25870ac9e9",
   "metadata": {},
   "outputs": [],
   "source": [
    "import os\n",
    "import openai\n",
    "import panel as pn\n",
    "from dotenv import load_dotenv, find_dotenv\n",
    "from IPython.display import HTML\n",
    "_ = load_dotenv(find_dotenv()) # read local .env file\n",
    "\n",
    "openai.api_key  = os.getenv('OPENAI_API_KEY')"
   ]
  },
  {
   "cell_type": "code",
   "execution_count": 5,
   "id": "d1bc790b-9c00-4100-a259-d9358411089d",
   "metadata": {},
   "outputs": [],
   "source": [
    "def get_completion(prompt, model=\"gpt-3.5-turbo\"):\n",
    "    messages = [{\"role\":\"user\",\"content\":prompt}]\n",
    "    response = openai.ChatCompletion.create(\n",
    "        model = model,\n",
    "        messages = messages,\n",
    "        temperature = 0,\n",
    "    )\n",
    "    return response.choices[0].message[\"content\"]\n",
    "def get_completion_from_messages(messages,model=\"gpt-3.5-turbo\",temperature=0):\n",
    "    response = openai.ChatCompletion.create(\n",
    "        model = model,\n",
    "        messages = messages,\n",
    "        temperature = temperature,\n",
    "    )\n",
    "    return response.choices[0].message[\"content\"]"
   ]
  },
  {
   "cell_type": "code",
   "execution_count": 9,
   "id": "52ddaba9-54e2-4d05-9d14-04376ef5cf56",
   "metadata": {},
   "outputs": [],
   "source": [
    "def collect_messages(_):\n",
    "    prompt = inp.value_input\n",
    "    inp.value = ''\n",
    "    context.append({\"role\":\"user\",\"content\":prompt})\n",
    "    response = get_completion_from_messages(context)\n",
    "    context.append({\"role\":\"assistant\",\"content\":f\"{response}\"})\n",
    "    panels.append(\n",
    "        pn.Row(\"user\",pn.pane.Markdown(prompt,width=600)))\n",
    "    panels.append(\n",
    "        pn.Row(\"assistant\",pn.pane.Markdown(prompt,width=600,styles={'background-color':\"grey\"})))\n",
    "    return pn.Column(*panels)"
   ]
  },
  {
   "cell_type": "code",
   "execution_count": null,
   "id": "de44440e-b513-4890-a27b-ea89edafb257",
   "metadata": {
    "collapsed": true,
    "jupyter": {
     "outputs_hidden": true
    }
   },
   "outputs": [],
   "source": [
    "pn.extension()\n",
    "panels = []\n",
    "\n",
    "context = [{\"role\":\"system\",\"content\":\"\"\"\n",
    "you are an resumebuilderbot, an automated service to collect information of user to build resume,\\\n",
    "you first greet the user then collect the information, \\\n",
    "be short for your answer and user friendly voice, \\\n",
    "ask for his or her name, mobile number, email address one by one, \\\n",
    "then ask for objective ask if user want to write its own or want is to be bot generative, \\\n",
    "if bot generative generate 50 words objective for user, \\\n",
    "then ask for education qualifications, \\\n",
    "which include section like qualification, passing year, School and percentage, ask for each section one by one,\\\n",
    "after entering percentage ask user wheather he or she want to add more qualification, \\\n",
    "if yes then same questions again. \\\n",
    "then ask for his key strengths, \\\n",
    "then ask for experiance if the user have any else move on to next section, \\\n",
    "if yes ask for position, company name, years/months one by one, \\\n",
    "if have any other experiance ask for yes or no, \\\n",
    "then same above questions again, \\\n",
    "after this ask for technical skills the user have, \\\n",
    "and then ask for some personal details, \\\n",
    "like gender, nationality, martial status, languages known, date of birth etc, \\\n",
    "After getting all this information ask user if he or she want to have any changes in any particular section.\\\n",
    "if yes ask for section and update the information that will be given by the user.\\\n",
    "After getting all information ask the user about the style of resume give some names to the user for style format.\\\n",
    "always remember until the user doesn't say you to move to further section stick to that particular section.\n",
    "\"\"\"}]\n",
    "\n",
    "inp = pn.widgets.TextInput(value = \"hi\",placeholder=\"Enter your text...\")\n",
    "button_conversation = pn.widgets.Button(name=\"Chat!\")\n",
    "\n",
    "interactive_conversation = pn.bind(collect_messages,button_conversation)\n",
    "\n",
    "dashboard = pn.Column(\n",
    "    inp,\n",
    "    pn.Row(button_conversation),\n",
    "    pn.panel(interactive_conversation, loading_indicator = True,height=300),\n",
    ")\n",
    "\n",
    "dashboard"
   ]
  },
  {
   "cell_type": "code",
   "execution_count": null,
   "id": "b5b8b516-2fd5-4057-b6c7-42e92f273cd3",
   "metadata": {},
   "outputs": [],
   "source": [
    "messages =  context.copy()\n",
    "messages.append(\n",
    "{'role':'system', 'content':'create a html code of resume design with previous details. create table for \\\n",
    " education and experiance section, \\\n",
    " main heading should be Resume then line by line add other info,\\\n",
    " and do not include those empty information that are not provided by user, \\\n",
    " section should be made in order like a official resume,\\\n",
    " every thing should be well arranged and bulleted if needed,\\\n",
    " and at end also include signature and date field,\\\n",
    " also ensure that the design for the resume should be from the style choosen by user,\\\n",
    " also create border outside the resume'},    \n",
    ")\n",
    "response = get_completion_from_messages(messages, temperature=0)\n",
    "display(HTML(response))"
   ]
  }
 ],
 "metadata": {
  "kernelspec": {
   "display_name": "Python 3 (ipykernel)",
   "language": "python",
   "name": "python3"
  },
  "language_info": {
   "codemirror_mode": {
    "name": "ipython",
    "version": 3
   },
   "file_extension": ".py",
   "mimetype": "text/x-python",
   "name": "python",
   "nbconvert_exporter": "python",
   "pygments_lexer": "ipython3",
   "version": "3.11.5"
  }
 },
 "nbformat": 4,
 "nbformat_minor": 5
}
